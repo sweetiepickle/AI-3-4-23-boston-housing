{
  "nbformat": 4,
  "nbformat_minor": 0,
  "metadata": {
    "colab": {
      "provenance": [],
      "authorship_tag": "ABX9TyN1ktR4LLQrkehvLcxRsarO",
      "include_colab_link": true
    },
    "kernelspec": {
      "name": "python3",
      "display_name": "Python 3"
    },
    "language_info": {
      "name": "python"
    }
  },
  "cells": [
    {
      "cell_type": "markdown",
      "metadata": {
        "id": "view-in-github",
        "colab_type": "text"
      },
      "source": [
        "<a href=\"https://colab.research.google.com/github/sweetiepickle/AI-3-4-23-boston-housing/blob/main/AI_3_4_23_boston_housing.ipynb\" target=\"_parent\"><img src=\"https://colab.research.google.com/assets/colab-badge.svg\" alt=\"Open In Colab\"/></a>"
      ]
    },
    {
      "cell_type": "code",
      "execution_count": 11,
      "metadata": {
        "id": "0y6ux1wNpv8d"
      },
      "outputs": [],
      "source": [
        "from keras.datasets import boston_housing\n",
        "(x_train, y_train), (x_test, y_test)= boston_housing.load_data()"
      ]
    },
    {
      "cell_type": "code",
      "source": [
        "print(x_train.shape)\n",
        "print(y_train.shape)\n",
        "print(x_train.dtype)\n",
        "print(y_train.dtype)\n",
        "print(x_test.shape)\n",
        "print(y_test.shape)\n",
        "print(x_test.dtype)\n",
        "print(y_test.dtype)"
      ],
      "metadata": {
        "colab": {
          "base_uri": "https://localhost:8080/"
        },
        "id": "tbKFXJtprDkN",
        "outputId": "250052d1-bca2-443b-e0ec-84130d6432ba"
      },
      "execution_count": 12,
      "outputs": [
        {
          "output_type": "stream",
          "name": "stdout",
          "text": [
            "(404, 13)\n",
            "(404,)\n",
            "float64\n",
            "float64\n",
            "(102, 13)\n",
            "(102,)\n",
            "float64\n",
            "float64\n"
          ]
        }
      ]
    },
    {
      "cell_type": "code",
      "source": [
        "# display data\n",
        "import seaborn as sns\n",
        "import matplotlib.pyplot as plt"
      ],
      "metadata": {
        "id": "yvHbtzu_shKu"
      },
      "execution_count": 13,
      "outputs": []
    },
    {
      "cell_type": "code",
      "source": [
        "from keras import models\n",
        "from keras.models import Sequential \n",
        "from keras.layers import Dense    # full-connected\n",
        "model= Sequential()"
      ],
      "metadata": {
        "id": "9FX_ahkyuw2T"
      },
      "execution_count": 14,
      "outputs": []
    },
    {
      "cell_type": "code",
      "source": [
        "model.add(Dense(800,activation='relu',input_shape=(13,),name='layers1'))\n",
        "model.add(Dense(200,activation='relu',name='layers2'))\n",
        "model.add(Dense(1,activation='linear',name='output'))\n",
        "# input_shape : tín hiệu vào \n",
        "# activation : hàm truyền\n",
        "# 50 : đầu ra\n",
        "model.summary()"
      ],
      "metadata": {
        "colab": {
          "base_uri": "https://localhost:8080/"
        },
        "id": "fg_24EHAvOiB",
        "outputId": "48d80de4-942e-4be1-cff1-8942e74900bb"
      },
      "execution_count": 15,
      "outputs": [
        {
          "output_type": "stream",
          "name": "stdout",
          "text": [
            "Model: \"sequential_1\"\n",
            "_________________________________________________________________\n",
            " Layer (type)                Output Shape              Param #   \n",
            "=================================================================\n",
            " layers1 (Dense)             (None, 800)               11200     \n",
            "                                                                 \n",
            " layers2 (Dense)             (None, 200)               160200    \n",
            "                                                                 \n",
            " output (Dense)              (None, 1)                 201       \n",
            "                                                                 \n",
            "=================================================================\n",
            "Total params: 171,601\n",
            "Trainable params: 171,601\n",
            "Non-trainable params: 0\n",
            "_________________________________________________________________\n"
          ]
        }
      ]
    },
    {
      "cell_type": "code",
      "source": [
        "# compile\n",
        "model.compile(optimizer='Adam',loss='mean_absolute_error',metrics=['accuracy'])\n",
        "model.fit(x_train, y_train, epochs= 10)\n",
        "test_loss, test_acc= model.evaluate(x_test, y_test)\n",
        "print('Độ chính xác trên tâp kiểm tra: ', test_acc)\n",
        "print('Hàm mất mát trên tập kiểm tra: ', test_loss)"
      ],
      "metadata": {
        "colab": {
          "base_uri": "https://localhost:8080/"
        },
        "id": "rEmfBICfwRUM",
        "outputId": "525802c3-8e2e-444b-9d4e-3f17dd504041"
      },
      "execution_count": 16,
      "outputs": [
        {
          "output_type": "stream",
          "name": "stdout",
          "text": [
            "Epoch 1/10\n",
            "13/13 [==============================] - 1s 6ms/step - loss: 29.7642 - accuracy: 0.0000e+00\n",
            "Epoch 2/10\n",
            "13/13 [==============================] - 0s 7ms/step - loss: 8.4394 - accuracy: 0.0000e+00\n",
            "Epoch 3/10\n",
            "13/13 [==============================] - 0s 10ms/step - loss: 5.5591 - accuracy: 0.0000e+00\n",
            "Epoch 4/10\n",
            "13/13 [==============================] - 0s 8ms/step - loss: 5.5012 - accuracy: 0.0000e+00\n",
            "Epoch 5/10\n",
            "13/13 [==============================] - 0s 7ms/step - loss: 5.7258 - accuracy: 0.0000e+00\n",
            "Epoch 6/10\n",
            "13/13 [==============================] - 0s 7ms/step - loss: 5.3669 - accuracy: 0.0000e+00\n",
            "Epoch 7/10\n",
            "13/13 [==============================] - 0s 7ms/step - loss: 5.2439 - accuracy: 0.0000e+00\n",
            "Epoch 8/10\n",
            "13/13 [==============================] - 0s 7ms/step - loss: 6.8380 - accuracy: 0.0000e+00\n",
            "Epoch 9/10\n",
            "13/13 [==============================] - 0s 7ms/step - loss: 5.3519 - accuracy: 0.0000e+00\n",
            "Epoch 10/10\n",
            "13/13 [==============================] - 0s 6ms/step - loss: 5.0830 - accuracy: 0.0000e+00\n",
            "4/4 [==============================] - 0s 4ms/step - loss: 5.7069 - accuracy: 0.0000e+00\n",
            "Độ chính xác trên tâp kiểm tra:  0.0\n",
            "Hàm mất mát trên tập kiểm tra:  5.706923007965088\n"
          ]
        }
      ]
    },
    {
      "cell_type": "code",
      "source": [
        "print(x_train)"
      ],
      "metadata": {
        "colab": {
          "base_uri": "https://localhost:8080/"
        },
        "id": "TfCeAfEDzySf",
        "outputId": "06558bf2-e0ca-4533-82c4-0a25db7fbf73"
      },
      "execution_count": 17,
      "outputs": [
        {
          "output_type": "stream",
          "name": "stdout",
          "text": [
            "[[1.23247e+00 0.00000e+00 8.14000e+00 ... 2.10000e+01 3.96900e+02\n",
            "  1.87200e+01]\n",
            " [2.17700e-02 8.25000e+01 2.03000e+00 ... 1.47000e+01 3.95380e+02\n",
            "  3.11000e+00]\n",
            " [4.89822e+00 0.00000e+00 1.81000e+01 ... 2.02000e+01 3.75520e+02\n",
            "  3.26000e+00]\n",
            " ...\n",
            " [3.46600e-02 3.50000e+01 6.06000e+00 ... 1.69000e+01 3.62250e+02\n",
            "  7.83000e+00]\n",
            " [2.14918e+00 0.00000e+00 1.95800e+01 ... 1.47000e+01 2.61950e+02\n",
            "  1.57900e+01]\n",
            " [1.43900e-02 6.00000e+01 2.93000e+00 ... 1.56000e+01 3.76700e+02\n",
            "  4.38000e+00]]\n"
          ]
        }
      ]
    },
    {
      "cell_type": "code",
      "source": [
        "from sklearn.preprocessing import StandardScaler\n",
        "sc= StandardScaler()\n",
        "sc.fit(x_train)\n",
        "x_train_std= sc.transform(x_train)\n",
        "x_test_std= sc.transform(x_test)"
      ],
      "metadata": {
        "id": "3FeAMmB-tkvU"
      },
      "execution_count": 18,
      "outputs": []
    }
  ]
}